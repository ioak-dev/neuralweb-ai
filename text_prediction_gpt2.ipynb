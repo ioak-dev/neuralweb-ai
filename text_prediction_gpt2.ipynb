{
 "cells": [
  {
   "cell_type": "code",
   "execution_count": 5,
   "id": "6563add5",
   "metadata": {},
   "outputs": [
    {
     "name": "stdout",
     "output_type": "stream",
     "text": [
      "A dip pen or nib pen or pen nib usually consists of a metal nib with capillary channels like those of fountain pen nibs, mounted in a handle or holder, often made of wood, silver or chrome.\n",
      "\n",
      "An ink cartridge or ink cartridge nib may be positioned at the end of a cartridge in the nib. A nib pen does not have a metal nib.\n",
      "\n",
      "The nib pen or nib pen nib may be used to read a printed paper or to read a paper with ink.\n",
      "A dip pen or nib pen or pen nib usually consists of a metal nib with capillary channels like those of fountain pen nibs, mounted in a handle or holder, often made of wood or metal. For this reason, the nib itself is usually not a metal nib. The nib is usually a metal nib in the shape of a pencil or pencil sharpener.\n",
      "\n",
      "A dip pen or nib pen or pen nib usually consists of a metal nib with capillary channels like those of fountain pen nib\n",
      "A dip pen or nib pen or pen nib usually consists of a metal nib with capillary channels like those of fountain pen nibs, mounted in a handle or holder, often made of wood or metal. The capillary channels are then removed from the nib and inserted into the pen.\n",
      "\n",
      "With the pen inserted, the nib is coated in ink and then the nib is pressed against a nib capillary channel.\n",
      "\n",
      "A dip pen or nib pen or pen nib usually consists of a metal nib\n",
      "A dip pen or nib pen or pen nib usually consists of a metal nib with capillary channels like those of fountain pen nibs, mounted in a handle or holder, often made of wood or other hard material, but sometimes with a metal nib.\n",
      "\n",
      "The use of the nib pen or pen nib is often accompanied by a heavy, metallic or metallic coating to provide a good, clear and clear reading. In this case, a clean, clean, clear reading is desirable, as the ink will\n",
      "A dip pen or nib pen or pen nib usually consists of a metal nib with capillary channels like those of fountain pen nibs, mounted in a handle or holder, often made of wood, and usually made with a metal tip.\n",
      "\n",
      "The nib tip is the upper section of the nib that is held in place by a large, flat, long, black metal handle, similar to that of an inkjet printer. It is usually made of a light-colored aluminum or glass, with a\n"
     ]
    }
   ],
   "source": [
    "import torch\n",
    "from transformers import GPT2Tokenizer, GPT2LMHeadModel\n",
    "\n",
    "# Load pre-trained GPT-2 model and tokenizer\n",
    "model_name = 'gpt2'\n",
    "tokenizer = GPT2Tokenizer.from_pretrained(model_name)\n",
    "model = GPT2LMHeadModel.from_pretrained(model_name)\n",
    "\n",
    "# Set device\n",
    "device = torch.device(\"cuda\" if torch.cuda.is_available() else \"cpu\")\n",
    "model.to(device)\n",
    "\n",
    "# Generate sentences based on input text\n",
    "def generate_sentences(input_text, num_sentences=3):\n",
    "    # Tokenize the input text\n",
    "    input_ids = tokenizer.encode(input_text, add_special_tokens=True, return_tensors='pt')\n",
    "    input_ids = input_ids.to(device)\n",
    "\n",
    "    # Generate sentences\n",
    "    generated_sentences = []\n",
    "    with torch.no_grad():\n",
    "        for _ in range(num_sentences):\n",
    "            outputs = model.generate(\n",
    "                input_ids=input_ids,\n",
    "                max_length=100,\n",
    "                num_return_sequences=1,\n",
    "                pad_token_id=tokenizer.eos_token_id,\n",
    "                do_sample=True,\n",
    "                temperature=0.7\n",
    "            )\n",
    "            generated_sentence = tokenizer.decode(outputs[0], skip_special_tokens=True)\n",
    "            generated_sentences.append(generated_sentence)\n",
    "\n",
    "    return generated_sentences\n",
    "\n",
    "# Example usage\n",
    "input_text = \"social security\"\n",
    "generated_sentences = generate_sentences(input_text, num_sentences=5)\n",
    "for sentence in generated_sentences:\n",
    "    print(sentence)\n"
   ]
  },
  {
   "cell_type": "code",
   "execution_count": null,
   "id": "4c4eb56d",
   "metadata": {},
   "outputs": [],
   "source": []
  }
 ],
 "metadata": {
  "kernelspec": {
   "display_name": "Python 3 (ipykernel)",
   "language": "python",
   "name": "python3"
  },
  "language_info": {
   "codemirror_mode": {
    "name": "ipython",
    "version": 3
   },
   "file_extension": ".py",
   "mimetype": "text/x-python",
   "name": "python",
   "nbconvert_exporter": "python",
   "pygments_lexer": "ipython3",
   "version": "3.7.16"
  }
 },
 "nbformat": 4,
 "nbformat_minor": 5
}
